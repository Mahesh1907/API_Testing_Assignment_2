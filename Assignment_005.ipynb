{
  "nbformat": 4,
  "nbformat_minor": 0,
  "metadata": {
    "colab": {
      "provenance": [],
      "authorship_tag": "ABX9TyOUO01d5/Y0Dpr2cxYDnBjW",
      "include_colab_link": true
    },
    "kernelspec": {
      "name": "python3",
      "display_name": "Python 3"
    },
    "language_info": {
      "name": "python"
    }
  },
  "cells": [
    {
      "cell_type": "markdown",
      "metadata": {
        "id": "view-in-github",
        "colab_type": "text"
      },
      "source": [
        "<a href=\"https://colab.research.google.com/github/Mahesh1907/API_Testing_Assignment_2/blob/main/Assignment_005.ipynb\" target=\"_parent\"><img src=\"https://colab.research.google.com/assets/colab-badge.svg\" alt=\"Open In Colab\"/></a>"
      ]
    },
    {
      "cell_type": "markdown",
      "source": [
        "***Code:***"
      ],
      "metadata": {
        "id": "RKEO--6xQR5-"
      }
    },
    {
      "cell_type": "code",
      "execution_count": null,
      "metadata": {
        "id": "r0F-xjEzQPwu"
      },
      "outputs": [],
      "source": [
        "package rest_assured_assignment;\n",
        "\n",
        "import io.restassured.RestAssured;\n",
        "import io.restassured.response.Response;\n",
        "import org.hamcrest.Matchers;\n",
        "import org.testng.annotations.DataProvider;\n",
        "import org.testng.annotations.Test;\n",
        "\n",
        "\n",
        "\n",
        "public class Assignment_005 {\n",
        "\n",
        "    @DataProvider(name = \"petStatuses\")\n",
        "    public Object[][] getStatuses() {\n",
        "        return new Object[][]{\n",
        "                {\"available\"},\n",
        "                {\"pending\"},\n",
        "                {\"sold\"}\n",
        "        };\n",
        "    }\n",
        "\n",
        "    @Test(dataProvider = \"petStatuses\")\n",
        "    public void validatePetStatus(String status) {\n",
        "        Response response = RestAssured.given()\n",
        "                .baseUri(\"https://petstore.swagger.io/v2/pet/findByStatus\")\n",
        "                .queryParam(\"status\", status)\n",
        "                .get();\n",
        "\n",
        "        response.then()\n",
        "                .statusCode(200)\n",
        "                .body(\"status\", Matchers.everyItem(Matchers.equalTo(status)));\n",
        "\n",
        "        int petCount = response.path(\"size()\");\n",
        "        System.out.println(\"Number of pets with status \" + status + \": \" + petCount);\n",
        "    }\n",
        "\n",
        "\n",
        "}\n"
      ]
    },
    {
      "cell_type": "markdown",
      "source": [
        "***Output:***\n",
        "\n",
        "Number of pets with status available: 288\n",
        "Number of pets with status pending: 2\n",
        "Number of pets with status sold: 11\n",
        "\n",
        "===============================================\n",
        "Default Suite\n",
        "Total tests run: 3, Passes: 3, Failures: 0, Skips: 0\n",
        "===============================================\n",
        "\n",
        "\n",
        "Process finished with exit code 0"
      ],
      "metadata": {
        "id": "lEoEGVBvQa1l"
      }
    }
  ]
}