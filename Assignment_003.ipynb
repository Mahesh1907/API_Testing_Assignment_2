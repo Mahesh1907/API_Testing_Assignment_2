{
  "nbformat": 4,
  "nbformat_minor": 0,
  "metadata": {
    "colab": {
      "provenance": [],
      "authorship_tag": "ABX9TyOcKjtXGzHVp87u2Ts8qd+e",
      "include_colab_link": true
    },
    "kernelspec": {
      "name": "python3",
      "display_name": "Python 3"
    },
    "language_info": {
      "name": "python"
    }
  },
  "cells": [
    {
      "cell_type": "markdown",
      "metadata": {
        "id": "view-in-github",
        "colab_type": "text"
      },
      "source": [
        "<a href=\"https://colab.research.google.com/github/Mahesh1907/API_Testing_Assignment_2/blob/main/Assignment_002.ipynb\" target=\"_parent\"><img src=\"https://colab.research.google.com/assets/colab-badge.svg\" alt=\"Open In Colab\"/></a>"
      ]
    },
    {
      "cell_type": "markdown",
      "source": [
        "***Code:***"
      ],
      "metadata": {
        "id": "r8TAoXWyO1oE"
      }
    },
    {
      "cell_type": "code",
      "execution_count": null,
      "metadata": {
        "id": "dJTzlIGNOq4x"
      },
      "outputs": [],
      "source": [
        "package rest_assured_assignment;\n",
        "\n",
        "import io.restassured.RestAssured;\n",
        "import io.restassured.response.Response;\n",
        "import org.hamcrest.Matchers;\n",
        "import org.testng.annotations.Test;\n",
        "\n",
        "public class Assignment_003 {\n",
        "\n",
        "\n",
        "\n",
        "    @Test\n",
        "    public void validateUserDetails() {\n",
        "        String username = \"Uname001\";\n",
        "        String expectedEmail = \"Positive@Attitude.com\";\n",
        "        int expectedUserStatus = 1;\n",
        "\n",
        "        Response response = RestAssured.given()\n",
        "                .baseUri(\"https://petstore.swagger.io/v2\")\n",
        "                .basePath(\"/user/\" + username)\n",
        "                .get();\n",
        "\n",
        "        response.then()\n",
        "                .statusCode(200)\n",
        "                .body(\"username\", Matchers.equalTo(username))\n",
        "                .body(\"email\", Matchers.equalTo(expectedEmail))\n",
        "                .body(\"userStatus\", Matchers.equalTo(expectedUserStatus));\n",
        "\n",
        "        int statusCode = response.getStatusCode();\n",
        "\n",
        "        System.out.println(\"Status code: \" + statusCode);\n",
        "        System.out.println(\"Username is \" + username);\n",
        "        System.out.println(\"Email is \" + expectedEmail);\n",
        "        System.out.println(\"UserStatus is \" + expectedUserStatus);\n",
        "    }\n",
        "}\n"
      ]
    },
    {
      "cell_type": "markdown",
      "source": [
        "***Output:***\n",
        "\n",
        "Status code: 200\n",
        "Username is Uname001\n",
        "Email is Positive@Attitude.com\n",
        "UserStatus is 1\n",
        "\n",
        "===============================================\n",
        "Default Suite\n",
        "Total tests run: 1, Passes: 1, Failures: 0, Skips: 0\n",
        "===============================================\n",
        "\n",
        "\n",
        "Process finished with exit code 0"
      ],
      "metadata": {
        "id": "P5Qf5d8dO8BS"
      }
    }
  ]
}
