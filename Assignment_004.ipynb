{
  "nbformat": 4,
  "nbformat_minor": 0,
  "metadata": {
    "colab": {
      "provenance": [],
      "authorship_tag": "ABX9TyPlwrkt+wBSVD9605OmoJVD",
      "include_colab_link": true
    },
    "kernelspec": {
      "name": "python3",
      "display_name": "Python 3"
    },
    "language_info": {
      "name": "python"
    }
  },
  "cells": [
    {
      "cell_type": "markdown",
      "metadata": {
        "id": "view-in-github",
        "colab_type": "text"
      },
      "source": [
        "<a href=\"https://colab.research.google.com/github/Mahesh1907/API_Testing_Assignment_2/blob/main/Assignment_004.ipynb\" target=\"_parent\"><img src=\"https://colab.research.google.com/assets/colab-badge.svg\" alt=\"Open In Colab\"/></a>"
      ]
    },
    {
      "cell_type": "markdown",
      "source": [
        "***Code:***"
      ],
      "metadata": {
        "id": "GwVogSU5P0Yu"
      }
    },
    {
      "cell_type": "code",
      "execution_count": null,
      "metadata": {
        "id": "LpKHBgNxPyS_"
      },
      "outputs": [],
      "source": [
        "package rest_assured_assignment;\n",
        "\n",
        "import io.restassured.RestAssured;\n",
        "import io.restassured.response.Response;\n",
        "import org.hamcrest.Matchers;\n",
        "import org.testng.annotations.Test;\n",
        "\n",
        "public class Assignment_004 {\n",
        "\n",
        "    @Test\n",
        "    public void validateLogin() {\n",
        "        String username = \"Uname001\";\n",
        "        String password = \"@tt!tude\";\n",
        "\n",
        "        Response response = RestAssured.given()\n",
        "                .baseUri(\"https://petstore.swagger.io/v2\")\n",
        "                .basePath(\"/user/login\")\n",
        "                .queryParam(\"username\", username)\n",
        "                .queryParam(\"password\", password)\n",
        "                .get();\n",
        "\n",
        "        response.then()\n",
        "                .statusCode(200)\n",
        "                .body(\"code\", Matchers.equalTo(200))\n",
        "                .body(\"message\", Matchers.containsString(\"logged in user\"));\n",
        "\n",
        "        int statusCode = response.getStatusCode();\n",
        "        String code = response.getBody().jsonPath().getString(\"code\");\n",
        "        String message = response.getBody().jsonPath().getString(\"message\");\n",
        "\n",
        "        System.out.println(\"Status code: \" + statusCode);\n",
        "        System.out.println(\"Code: \" + code);\n",
        "        System.out.println(\"Message: \" + message);\n",
        "\n",
        "    }\n",
        "}\n",
        "\n"
      ]
    },
    {
      "cell_type": "markdown",
      "source": [
        "***Output:***\n",
        "\n",
        "Status code: 200\n",
        "Code: 200\n",
        "Message: logged in user session:1689251663465\n",
        "\n",
        "===============================================\n",
        "Default Suite\n",
        "Total tests run: 1, Passes: 1, Failures: 0, Skips: 0\n",
        "===============================================\n",
        "\n",
        "\n",
        "Process finished with exit code 0"
      ],
      "metadata": {
        "id": "19paxGAjP5cG"
      }
    }
  ]
}