{
  "nbformat": 4,
  "nbformat_minor": 0,
  "metadata": {
    "colab": {
      "provenance": [],
      "authorship_tag": "ABX9TyOQY9mdpQoXldPf03NQsdGm",
      "include_colab_link": true
    },
    "kernelspec": {
      "name": "python3",
      "display_name": "Python 3"
    },
    "language_info": {
      "name": "python"
    }
  },
  "cells": [
    {
      "cell_type": "markdown",
      "metadata": {
        "id": "view-in-github",
        "colab_type": "text"
      },
      "source": [
        "<a href=\"https://colab.research.google.com/github/Mahesh1907/API_Testing_Assignment_2/blob/main/Assignment_002.ipynb\" target=\"_parent\"><img src=\"https://colab.research.google.com/assets/colab-badge.svg\" alt=\"Open In Colab\"/></a>"
      ]
    },
    {
      "cell_type": "markdown",
      "source": [
        "***Code:***"
      ],
      "metadata": {
        "id": "1O-vffY2exr2"
      }
    },
    {
      "cell_type": "code",
      "execution_count": null,
      "metadata": {
        "id": "voiMHc_hemIu"
      },
      "outputs": [],
      "source": [
        "package rest_assured_assignment;\n",
        "\n",
        "import io.restassured.RestAssured;\n",
        "import io.restassured.http.ContentType;\n",
        "import io.restassured.response.Response;\n",
        "import org.hamcrest.Matchers;\n",
        "import org.testng.annotations.Optional;\n",
        "import org.testng.annotations.Parameters;\n",
        "import org.testng.annotations.Test;\n",
        "\n",
        "import java.util.HashMap;\n",
        "import java.util.Map;\n",
        "\n",
        "public class PetStoreAPITest {\n",
        "\n",
        "    private static final Map<String, String> environmentMap = new HashMap<>();\n",
        "\n",
        "    static {\n",
        "        environmentMap.put(\"DEV\", \"available_DEV\");\n",
        "        environmentMap.put(\"QA\", \"available_QA\");\n",
        "        environmentMap.put(\"PROD\", \"available_PROD\");\n",
        "    }\n",
        "\n",
        "    @Test\n",
        "    @Parameters(\"environment\")\n",
        "    public void putCallTesting(@Optional String environment) {\n",
        "        String status;\n",
        "\n",
        "        if (environment != null && environmentMap.containsKey(environment.toUpperCase())) {\n",
        "            status = environmentMap.get(environment.toUpperCase());\n",
        "        } else {\n",
        "            status = \"available\"+environment;\n",
        "        }\n",
        "\n",
        "        String requestJson = \"{\\n\" +\n",
        "                \"  \\\"id\\\": 9223372016900013000,\\n\" +\n",
        "                \"  \\\"category\\\": {\\n\" +\n",
        "                \"    \\\"id\\\": 20021,\\n\" +\n",
        "                \"    \\\"name\\\": \\\"string\\\"\\n\" +\n",
        "                \"  },\\n\" +\n",
        "                \"  \\\"name\\\": \\\"doggie\\\",\\n\" +\n",
        "                \"  \\\"photoUrls\\\": [\\n\" +\n",
        "                \"    \\\"string\\\"\\n\" +\n",
        "                \"  ],\\n\" +\n",
        "                \"  \\\"tags\\\": [\\n\" +\n",
        "                \"    {\\n\" +\n",
        "                \"      \\\"id\\\": 0,\\n\" +\n",
        "                \"      \\\"name\\\": \\\"string\\\"\\n\" +\n",
        "                \"    }\\n\" +\n",
        "                \"  ],\\n\" +\n",
        "                \"  \\\"status\\\": \\\"\" + status + \"\\\"\\n\" +\n",
        "                \"}\";\n",
        "\n",
        "        Response response = RestAssured.given()\n",
        "                .baseUri(\"https://petstore.swagger.io/v2\")\n",
        "                .basePath(\"/pet\")\n",
        "                .contentType(ContentType.JSON)\n",
        "                .body(requestJson)\n",
        "                .put();\n",
        "\n",
        "        response.then()\n",
        "                .statusCode(200)\n",
        "                .body(\"id\", Matchers.equalTo(9223372016900013000L));\n",
        "\n",
        "        int statusCode = response.getStatusCode();\n",
        "        long id = response.getBody().jsonPath().getLong(\"id\");\n",
        "\n",
        "        System.out.println(\"Status code: \" + statusCode);\n",
        "        System.out.println(\"ID: \" + id);\n",
        "        System.out.println(\"Environment status: \" + status);\n",
        "    }\n",
        "}\n"
      ]
    },
    {
      "cell_type": "markdown",
      "source": [
        "***testNG.xml - Code***"
      ],
      "metadata": {
        "id": "S-N2VKTbfQ_u"
      }
    },
    {
      "cell_type": "code",
      "source": [
        "<suite name=\"Assignment002 Suite\">\n",
        "<test name=\"Assignment002\">\n",
        "    <parameter name=\"environment\" value=\"PROD\"/>\n",
        "    <classes>\n",
        "        <class name=\"rest_assured_assignment.Assignment_002\"/>\n",
        "    </classes>\n",
        "</test>\n",
        "</suite>\n"
      ],
      "metadata": {
        "id": "6GJcpfh5fQmY"
      },
      "execution_count": null,
      "outputs": []
    },
    {
      "cell_type": "markdown",
      "source": [
        "***Output:***\n",
        "\n",
        "Status code: 200\n",
        "ID: 9223372016900013000\n",
        "Environment status: available_PROD\n",
        "\n",
        "===============================================\n",
        "Assignment002 Suite\n",
        "Total tests run: 1, Passes: 1, Failures: 0, Skips: 0\n",
        "===============================================\n",
        "\n",
        "\n",
        "Process finished with exit code 0"
      ],
      "metadata": {
        "id": "PsBvV4Z8fdr5"
      }
    }
  ]
}